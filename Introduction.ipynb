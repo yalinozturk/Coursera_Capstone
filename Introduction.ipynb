{
 "cells": [
  {
   "cell_type": "markdown",
   "metadata": {},
   "source": [
    "# Introduction"
   ]
  },
  {
   "cell_type": "markdown",
   "metadata": {},
   "source": [
    "The US Department of Transportation has announced a sum of 6,734,000 vehicle crashes happening the nation over, in 2018, bringing about roughly 1,900,000 wounds and 34,000 fatalities. These mishaps, and ensuing wounds, can be ascribed to a few elements, including occupied driving, the number of vehicles, speeding, and the number of individuals engaged with the mishap. Stakeholders of this project are Public Development Authority of Seattle and car drivers. By using recorded accident information, dissecting each revealed occurrence, and the properties related to each crash, a model can be made that can help caution drivers of expected dangers and may enable neighborhood governments to allot extra assets to forestall future mishaps."
   ]
  }
 ],
 "metadata": {
  "kernelspec": {
   "display_name": "Python 3",
   "language": "python",
   "name": "python3"
  },
  "language_info": {
   "codemirror_mode": {
    "name": "ipython",
    "version": 3
   },
   "file_extension": ".py",
   "mimetype": "text/x-python",
   "name": "python",
   "nbconvert_exporter": "python",
   "pygments_lexer": "ipython3",
   "version": "3.8.3"
  }
 },
 "nbformat": 4,
 "nbformat_minor": 4
}
